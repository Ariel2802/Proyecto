{
 "cells": [
  {
   "cell_type": "code",
   "execution_count": 17,
   "id": "18a9a366",
   "metadata": {},
   "outputs": [],
   "source": [
    "import pandas as pd\n",
    "import numpy as np\n",
    "import torch"
   ]
  },
  {
   "cell_type": "code",
   "execution_count": 69,
   "id": "6d047718",
   "metadata": {},
   "outputs": [],
   "source": [
    "#Leer archivos\n",
    "datosResponseTime = pd.read_excel('../Datos/DatosConY0101.xlsx', sheet_name='ICMP response time').to_numpy()\n",
    "datosPaquetesEnviados = pd.read_excel('../Datos/DatosConY0101.xlsx', sheet_name='Paquetes unicast enviados ETH').to_numpy()\n",
    "datosPaquetesRecibidos = pd.read_excel('../Datos/DatosConY0101.xlsx', sheet_name='Paquetes unicast recibidos ETH').to_numpy()\n",
    "datosTraficoRecibido = pd.read_excel('../Datos/DatosConY0101.xlsx', sheet_name='Trafico LAN Recibido').to_numpy()\n",
    "datosTraficoTransmitido = pd.read_excel('../Datos/DatosConY0101.xlsx', sheet_name='Trafico LAN Transmitido').to_numpy()\n"
   ]
  },
  {
   "cell_type": "code",
   "execution_count": 71,
   "id": "a8f099ba",
   "metadata": {},
   "outputs": [],
   "source": [
    "x_datosResponseTime = datosResponseTime[:,3:-1].astype(np.float32)\n",
    "x_datosPaquetesEnviados = datosPaquetesEnviados[:,3:-1].astype(np.float32)\n",
    "x_datosPaquetesRecibidos = datosPaquetesRecibidos[:,3:-1].astype(np.float32)\n",
    "x_datosTraficoRecibido = datosTraficoRecibido[:,3:-1].astype(np.float32)\n",
    "x_datosTraficoTransmitido = datosTraficoTransmitido[:,3:-1].astype(np.float32)\n",
    "y = datosTraficoTransmitido[:,-1].astype(np.float32)"
   ]
  },
  {
   "cell_type": "code",
   "execution_count": 73,
   "id": "0b3dfcdd",
   "metadata": {},
   "outputs": [
    {
     "name": "stdout",
     "output_type": "stream",
     "text": [
      "ResponseTime: float32\n",
      "PaquetesEnviados: float32\n",
      "PaquetesRecibidos: float32\n",
      "TraficoRecibido: float32\n",
      "TraficoTransmitido: float32\n"
     ]
    }
   ],
   "source": [
    "print(\"ResponseTime:\", x_datosResponseTime.dtype)\n",
    "print(\"PaquetesEnviados:\", x_datosPaquetesEnviados.dtype)\n",
    "print(\"PaquetesRecibidos:\", x_datosPaquetesRecibidos.dtype)\n",
    "print(\"TraficoRecibido:\", x_datosTraficoRecibido.dtype)\n",
    "print(\"TraficoTransmitido:\", x_datosTraficoTransmitido.dtype)"
   ]
  },
  {
   "cell_type": "code",
   "execution_count": 74,
   "id": "bb961ce3",
   "metadata": {},
   "outputs": [],
   "source": [
    "X = np.array([x_datosResponseTime, x_datosPaquetesEnviados, x_datosPaquetesRecibidos,\n",
    "              x_datosTraficoRecibido, x_datosTraficoTransmitido]).transpose(1,0,2)"
   ]
  },
  {
   "cell_type": "code",
   "execution_count": 75,
   "id": "37d4d1fe",
   "metadata": {},
   "outputs": [
    {
     "name": "stdout",
     "output_type": "stream",
     "text": [
      "float32\n",
      "<class 'numpy.ndarray'>\n"
     ]
    }
   ],
   "source": [
    "X.shape\n",
    "print(X.dtype)\n",
    "print(type(X[0,0]))\n"
   ]
  },
  {
   "cell_type": "code",
   "execution_count": 2,
   "id": "30b6c265",
   "metadata": {},
   "outputs": [
    {
     "ename": "NameError",
     "evalue": "name 'y' is not defined",
     "output_type": "error",
     "traceback": [
      "\u001b[31m---------------------------------------------------------------------------\u001b[39m",
      "\u001b[31mNameError\u001b[39m                                 Traceback (most recent call last)",
      "\u001b[36mCell\u001b[39m\u001b[36m \u001b[39m\u001b[32mIn[2]\u001b[39m\u001b[32m, line 1\u001b[39m\n\u001b[32m----> \u001b[39m\u001b[32m1\u001b[39m \u001b[43my\u001b[49m.shape\n",
      "\u001b[31mNameError\u001b[39m: name 'y' is not defined"
     ]
    }
   ],
   "source": [
    "y.shape"
   ]
  },
  {
   "cell_type": "code",
   "execution_count": 77,
   "id": "fcfc023b",
   "metadata": {},
   "outputs": [],
   "source": [
    "X_T=torch.tensor(X).float()"
   ]
  },
  {
   "cell_type": "code",
   "execution_count": 1,
   "id": "94aaf118",
   "metadata": {},
   "outputs": [
    {
     "ename": "NameError",
     "evalue": "name 'X_T' is not defined",
     "output_type": "error",
     "traceback": [
      "\u001b[31m---------------------------------------------------------------------------\u001b[39m",
      "\u001b[31mNameError\u001b[39m                                 Traceback (most recent call last)",
      "\u001b[36mCell\u001b[39m\u001b[36m \u001b[39m\u001b[32mIn[1]\u001b[39m\u001b[32m, line 1\u001b[39m\n\u001b[32m----> \u001b[39m\u001b[32m1\u001b[39m \u001b[43mX_T\u001b[49m.shape, X_T.dtype\n",
      "\u001b[31mNameError\u001b[39m: name 'X_T' is not defined"
     ]
    }
   ],
   "source": [
    "X_T.shape, X_T.dtype"
   ]
  },
  {
   "cell_type": "code",
   "execution_count": null,
   "id": "c9be1266",
   "metadata": {},
   "outputs": [
    {
     "data": {
      "text/plain": [
       "<torch.utils.data.dataset.TensorDataset at 0x1a190c628d0>"
      ]
     },
     "execution_count": 80,
     "metadata": {},
     "output_type": "execute_result"
    }
   ],
   "source": [
    "dataset = torch.utils.data.TensorDataset(X_T, torch.tensor(y).long())"
   ]
  },
  {
   "cell_type": "code",
   "execution_count": null,
   "id": "77ee6d84",
   "metadata": {},
   "outputs": [],
   "source": [
    "from torch.utils.data.dataset import random_split\n",
    "train_val_dataset, test_dataset = random_split(dataset, [0.8, 0.2])"
   ]
  },
  {
   "cell_type": "code",
   "execution_count": null,
   "id": "5eee729b",
   "metadata": {},
   "outputs": [
    {
     "data": {
      "text/plain": [
       "(714, 178, 223)"
      ]
     },
     "execution_count": 83,
     "metadata": {},
     "output_type": "execute_result"
    }
   ],
   "source": [
    "train_dataset, val_dataset = random_split(train_val_dataset, [0.8, 0.2])\n",
    "len(train_dataset), len(val_dataset), len(test_dataset)"
   ]
  },
  {
   "cell_type": "code",
   "execution_count": null,
   "id": "c77e7f2a",
   "metadata": {},
   "outputs": [],
   "source": [
    "from torch.utils.data import DataLoader\n",
    "from torchvision import datasets, transforms\n",
    "\n",
    "train_dataset = datasets.MNIST(\n",
    "    root=\"./mnist\", train=True, transform=transforms.ToTensor(), download=True\n",
    ")\n",
    "\n",
    "test_dataset = datasets.MNIST(\n",
    "    root=\"./mnist\", train=False, transform=transforms.ToTensor()\n",
    ")"
   ]
  }
 ],
 "metadata": {
  "kernelspec": {
   "display_name": ".venv",
   "language": "python",
   "name": "python3"
  },
  "language_info": {
   "codemirror_mode": {
    "name": "ipython",
    "version": 3
   },
   "file_extension": ".py",
   "mimetype": "text/x-python",
   "name": "python",
   "nbconvert_exporter": "python",
   "pygments_lexer": "ipython3",
   "version": "3.12.4"
  }
 },
 "nbformat": 4,
 "nbformat_minor": 5
}
